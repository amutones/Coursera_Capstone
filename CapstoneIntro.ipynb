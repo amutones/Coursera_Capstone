{
 "cells": [
  {
   "cell_type": "markdown",
   "metadata": {},
   "source": [
    "# Capstone Introduction/Business Problem"
   ]
  },
  {
   "cell_type": "markdown",
   "metadata": {},
   "source": [
    "The COVID-19 pandemic has affected everyone globally. While there is still much to learn about the virus, we know that certain areas have been affected more than others. This applies to the city of Chicago, more specifically certain areas of the city itself have been disproportionally affected more than others. In this project we will gather data to determine the hardest and lowest hit areas by cases and by deaths. Business data of these locations will then be clustered to find similarities and differences between these areas of the city.\n",
    "\n",
    "This report is targeted toward public health officials and city planners of Chicago as this could potentially help allocate resources accordingly. This could also help other public health officials and city planners of municipalities or other local and state government officials to aid with analysis of their own areas."
   ]
  }
 ],
 "metadata": {
  "kernelspec": {
   "display_name": "Python 3",
   "language": "python",
   "name": "python3"
  },
  "language_info": {
   "codemirror_mode": {
    "name": "ipython",
    "version": 3
   },
   "file_extension": ".py",
   "mimetype": "text/x-python",
   "name": "python",
   "nbconvert_exporter": "python",
   "pygments_lexer": "ipython3",
   "version": "3.8.5"
  }
 },
 "nbformat": 4,
 "nbformat_minor": 4
}
