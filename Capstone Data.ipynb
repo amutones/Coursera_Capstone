{
 "cells": [
  {
   "cell_type": "markdown",
   "metadata": {},
   "source": [
    "# Capstone Data"
   ]
  },
  {
   "cell_type": "markdown",
   "metadata": {},
   "source": [
    "Factors that will influence our modelling are:\n",
    "* populations of ZIP Codes\n",
    "* area measurements of ZIP Codes\n",
    "* Foursquare location data limitations\n",
    "\n",
    "Following data sources will be needed to extract/generate the required information:\n",
    "* COVID-19 Data gathered from the City of Chicago\n",
    "* ZIP Code locations of Chicago\n",
    "* Data of businesses of gathered from Foursquare\n",
    "\n",
    "COVID-19 data was gathered [here](https://data.cityofchicago.org/Health-Human-Services/COVID-19-Cases-Tests-and-Deaths-by-ZIP-Code/yhhz-zm2v) from the city of Chicago data website. The data was grouped to the most recent week of data. Since the data is provided by ZIP Codes, it was then cleaned to include the ZIP Code with its population and location, cumulative cases, cases per 100 thousand people, tests, tests per 100 thousand people, deaths, and deaths per 100 thousand people. The cases and deaths per 100 thousand people data points will then be used to create a heat map to visualize how each area has been affected.\n",
    "\n",
    "Foursquare data was utilized to create a dataframe of the 100 nearest businesses within a 2.5 km radius from the location of the ZIP Code location provided by the city of Chicago. The distance of 2.5km was used as representative of a one mile replacement. Although some data overlaps, no duplicates were removed as they will be interpreted as features of the area and is key to cluster accurately the location. This data will then be clustered to reveal similarities to other ZIP Codes of the city. The clustered data will then be plotted on a chloropleth map."
   ]
  }
 ],
 "metadata": {
  "kernelspec": {
   "display_name": "Python 3",
   "language": "python",
   "name": "python3"
  },
  "language_info": {
   "codemirror_mode": {
    "name": "ipython",
    "version": 3
   },
   "file_extension": ".py",
   "mimetype": "text/x-python",
   "name": "python",
   "nbconvert_exporter": "python",
   "pygments_lexer": "ipython3",
   "version": "3.8.5"
  }
 },
 "nbformat": 4,
 "nbformat_minor": 4
}
